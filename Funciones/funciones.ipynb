{
 "cells": [
  {
   "cell_type": "markdown",
   "metadata": {},
   "source": [
    "Importo Librerias"
   ]
  },
  {
   "cell_type": "code",
   "execution_count": 3,
   "metadata": {},
   "outputs": [],
   "source": [
    "import pandas as pd\n",
    "import numpy as np \n",
    "import ast\n",
    "\n",
    "from sklearn.feature_extraction.text import TfidfVectorizer\n",
    "from sklearn.metrics.pairwise import cosine_similarity\n",
    "from sklearn.metrics.pairwise import linear_kernel\n"
   ]
  },
  {
   "cell_type": "markdown",
   "metadata": {},
   "source": [
    "Cargo Dataframes de trabajo"
   ]
  },
  {
   "cell_type": "code",
   "execution_count": 29,
   "metadata": {},
   "outputs": [],
   "source": [
    "df_games = pd.read_parquet(r'D:\\projectos\\programacion\\henrry\\bootcamp\\proyecto_individuales\\1\\p1\\Proyecto_Individual_N-1_kalchichen_lucas\\dataset\\ETL_dataset\\steam_games_clean.parquet')\n",
    "df_items = pd.read_parquet(r'D:\\projectos\\programacion\\henrry\\bootcamp\\proyecto_individuales\\1\\p1\\Proyecto_Individual_N-1_kalchichen_lucas\\dataset\\ETL_dataset\\user_items_cleaned.parquet')\n",
    "df_reviews = pd.read_parquet(r'D:\\projectos\\programacion\\henrry\\bootcamp\\proyecto_individuales\\1\\p1\\Proyecto_Individual_N-1_kalchichen_lucas\\dataset\\ETL_dataset\\users_reviews_cleaned.parquet')"
   ]
  },
  {
   "cell_type": "markdown",
   "metadata": {},
   "source": [
    "Funcion 1"
   ]
  },
  {
   "cell_type": "markdown",
   "metadata": {},
   "source": [
    "+ def **developer( *`desarrollador` : str* )**:\n",
    "    `Cantidad` de items y `porcentaje` de contenido Free por año según empresa desarrolladora. \n",
    "Ejemplo de retorno:\n",
    "\n",
    "| Año  | Cantidad de Items | Contenido Free  |\n",
    "|------|-------------------|------------------|\n",
    "| 2023 | 50                | 27%              |\n",
    "| 2022 | 45                | 25%              |\n",
    "| xxxx | xx                | xx%              |\n",
    "\n",
    "    "
   ]
  },
  {
   "cell_type": "markdown",
   "metadata": {},
   "source": [
    "    dataset para la primera funcion \n",
    "        "
   ]
  },
  {
   "cell_type": "code",
   "execution_count": 30,
   "metadata": {},
   "outputs": [
    {
     "data": {
      "text/html": [
       "<div>\n",
       "<style scoped>\n",
       "    .dataframe tbody tr th:only-of-type {\n",
       "        vertical-align: middle;\n",
       "    }\n",
       "\n",
       "    .dataframe tbody tr th {\n",
       "        vertical-align: top;\n",
       "    }\n",
       "\n",
       "    .dataframe thead th {\n",
       "        text-align: right;\n",
       "    }\n",
       "</style>\n",
       "<table border=\"1\" class=\"dataframe\">\n",
       "  <thead>\n",
       "    <tr style=\"text-align: right;\">\n",
       "      <th></th>\n",
       "      <th>price</th>\n",
       "      <th>developer</th>\n",
       "      <th>year</th>\n",
       "    </tr>\n",
       "  </thead>\n",
       "  <tbody>\n",
       "    <tr>\n",
       "      <th>0</th>\n",
       "      <td>9.99</td>\n",
       "      <td>Valve</td>\n",
       "      <td>2000</td>\n",
       "    </tr>\n",
       "    <tr>\n",
       "      <th>1</th>\n",
       "      <td>9.99</td>\n",
       "      <td>Mark Healey</td>\n",
       "      <td>2005</td>\n",
       "    </tr>\n",
       "    <tr>\n",
       "      <th>2</th>\n",
       "      <td>99.99</td>\n",
       "      <td>Nevercenter Ltd. Co.</td>\n",
       "      <td>2012</td>\n",
       "    </tr>\n",
       "    <tr>\n",
       "      <th>3</th>\n",
       "      <td>19.99</td>\n",
       "      <td>Treyarch</td>\n",
       "      <td>2008</td>\n",
       "    </tr>\n",
       "    <tr>\n",
       "      <th>4</th>\n",
       "      <td>99.99</td>\n",
       "      <td>Pilgway</td>\n",
       "      <td>2012</td>\n",
       "    </tr>\n",
       "    <tr>\n",
       "      <th>...</th>\n",
       "      <td>...</td>\n",
       "      <td>...</td>\n",
       "      <td>...</td>\n",
       "    </tr>\n",
       "    <tr>\n",
       "      <th>32128</th>\n",
       "      <td>9.99</td>\n",
       "      <td>Nicalis, Inc.</td>\n",
       "      <td>2011</td>\n",
       "    </tr>\n",
       "    <tr>\n",
       "      <th>32129</th>\n",
       "      <td>6.99</td>\n",
       "      <td>Artech Studios</td>\n",
       "      <td>2010</td>\n",
       "    </tr>\n",
       "    <tr>\n",
       "      <th>32130</th>\n",
       "      <td>0.00</td>\n",
       "      <td>Grey Havens</td>\n",
       "      <td>2011</td>\n",
       "    </tr>\n",
       "    <tr>\n",
       "      <th>32131</th>\n",
       "      <td>0.00</td>\n",
       "      <td>Three Rings</td>\n",
       "      <td>2011</td>\n",
       "    </tr>\n",
       "    <tr>\n",
       "      <th>32132</th>\n",
       "      <td>1.99</td>\n",
       "      <td>Behaviour</td>\n",
       "      <td>2011</td>\n",
       "    </tr>\n",
       "  </tbody>\n",
       "</table>\n",
       "<p>32133 rows × 3 columns</p>\n",
       "</div>"
      ],
      "text/plain": [
       "       price             developer  year\n",
       "0       9.99                 Valve  2000\n",
       "1       9.99           Mark Healey  2005\n",
       "2      99.99  Nevercenter Ltd. Co.  2012\n",
       "3      19.99              Treyarch  2008\n",
       "4      99.99               Pilgway  2012\n",
       "...      ...                   ...   ...\n",
       "32128   9.99         Nicalis, Inc.  2011\n",
       "32129   6.99        Artech Studios  2010\n",
       "32130   0.00           Grey Havens  2011\n",
       "32131   0.00           Three Rings  2011\n",
       "32132   1.99             Behaviour  2011\n",
       "\n",
       "[32133 rows x 3 columns]"
      ]
     },
     "execution_count": 30,
     "metadata": {},
     "output_type": "execute_result"
    }
   ],
   "source": [
    "df_f1_dev = df_games.copy()\n",
    "df_f1_dev = df_f1_dev.drop(['item_id','tags','specs','genres','name'], axis=1)\n",
    "df_f1_dev.sort_values('developer')\n",
    "df_f1_dev"
   ]
  },
  {
   "cell_type": "markdown",
   "metadata": {},
   "source": [
    "guardo el data frame para la funcion developer"
   ]
  },
  {
   "cell_type": "code",
   "execution_count": 32,
   "metadata": {},
   "outputs": [],
   "source": [
    "1\n",
    "# Los archivos se almacenan en local \n",
    "#df_f1_dev.to_csv(r'C:\\Users\\Usuario\\Desktop\\henrry\\PI1\\Proyecto_Individual_N-1_kalchichen_lucas\\dataset\\Funcciones_dataset\\fun_1_dev.csv', index=False)\n",
    "#df_f1_dev.to_json(r'C:\\Users\\Usuario\\Desktop\\henrry\\PI1\\Proyecto_Individual_N-1_kalchichen_lucas\\dataset\\Funcciones_dataset\\fun_1_dev.json', orient='records', lines=True)\n",
    "df_f1_dev.to_parquet(r'D:\\projectos\\programacion\\henrry\\bootcamp\\proyecto_individuales\\1\\p1\\Proyecto_Individual_N-1_kalchichen_lucas\\dataset\\Funcciones_dataset\\fun_1_dev.parquet', index=False)"
   ]
  },
  {
   "cell_type": "code",
   "execution_count": 33,
   "metadata": {},
   "outputs": [],
   "source": [
    "def developer(dev: str):\n",
    "  df_dev = df_f1_dev.copy()\n",
    "  df_dev = df_dev[df_dev['developer'] == dev]\n",
    "    \n",
    "    # Calculate the number of items per year\n",
    "  items_per_year = df_dev.groupby('year').size()\n",
    "    \n",
    "    # Calculate the percentage of free content per year\n",
    "  free_content_per_year = df_dev[df_dev['price'] == 0.0].groupby('year').size() / items_per_year.replace(0, np.nan) * 100\n",
    "  free_content_per_year = free_content_per_year.fillna(0)  # Replace NaN values with 0\n",
    "    \n",
    "  data = []\n",
    "  for year in items_per_year.index:\n",
    "      data.append([year, items_per_year[year], free_content_per_year.get(year, 0)])  # Retrieve the value or default to 0\n",
    "        \n",
    "  data_return = pd.DataFrame(data, columns=['year', 'items', 'free_content'])\n",
    "  return data_return\n"
   ]
  },
  {
   "cell_type": "code",
   "execution_count": 34,
   "metadata": {},
   "outputs": [
    {
     "data": {
      "text/html": [
       "<div>\n",
       "<style scoped>\n",
       "    .dataframe tbody tr th:only-of-type {\n",
       "        vertical-align: middle;\n",
       "    }\n",
       "\n",
       "    .dataframe tbody tr th {\n",
       "        vertical-align: top;\n",
       "    }\n",
       "\n",
       "    .dataframe thead th {\n",
       "        text-align: right;\n",
       "    }\n",
       "</style>\n",
       "<table border=\"1\" class=\"dataframe\">\n",
       "  <thead>\n",
       "    <tr style=\"text-align: right;\">\n",
       "      <th></th>\n",
       "      <th>year</th>\n",
       "      <th>items</th>\n",
       "      <th>free_content</th>\n",
       "    </tr>\n",
       "  </thead>\n",
       "  <tbody>\n",
       "    <tr>\n",
       "      <th>0</th>\n",
       "      <td>2005</td>\n",
       "      <td>2</td>\n",
       "      <td>0.0</td>\n",
       "    </tr>\n",
       "    <tr>\n",
       "      <th>1</th>\n",
       "      <td>2006</td>\n",
       "      <td>2</td>\n",
       "      <td>0.0</td>\n",
       "    </tr>\n",
       "    <tr>\n",
       "      <th>2</th>\n",
       "      <td>2008</td>\n",
       "      <td>4</td>\n",
       "      <td>0.0</td>\n",
       "    </tr>\n",
       "    <tr>\n",
       "      <th>3</th>\n",
       "      <td>2010</td>\n",
       "      <td>4</td>\n",
       "      <td>0.0</td>\n",
       "    </tr>\n",
       "    <tr>\n",
       "      <th>4</th>\n",
       "      <td>2011</td>\n",
       "      <td>2</td>\n",
       "      <td>0.0</td>\n",
       "    </tr>\n",
       "    <tr>\n",
       "      <th>5</th>\n",
       "      <td>2012</td>\n",
       "      <td>5</td>\n",
       "      <td>0.0</td>\n",
       "    </tr>\n",
       "    <tr>\n",
       "      <th>6</th>\n",
       "      <td>2013</td>\n",
       "      <td>13</td>\n",
       "      <td>0.0</td>\n",
       "    </tr>\n",
       "    <tr>\n",
       "      <th>7</th>\n",
       "      <td>2014</td>\n",
       "      <td>4</td>\n",
       "      <td>0.0</td>\n",
       "    </tr>\n",
       "    <tr>\n",
       "      <th>8</th>\n",
       "      <td>2015</td>\n",
       "      <td>2</td>\n",
       "      <td>50.0</td>\n",
       "    </tr>\n",
       "    <tr>\n",
       "      <th>9</th>\n",
       "      <td>2016</td>\n",
       "      <td>24</td>\n",
       "      <td>0.0</td>\n",
       "    </tr>\n",
       "    <tr>\n",
       "      <th>10</th>\n",
       "      <td>2017</td>\n",
       "      <td>24</td>\n",
       "      <td>0.0</td>\n",
       "    </tr>\n",
       "  </tbody>\n",
       "</table>\n",
       "</div>"
      ],
      "text/plain": [
       "    year  items  free_content\n",
       "0   2005      2           0.0\n",
       "1   2006      2           0.0\n",
       "2   2008      4           0.0\n",
       "3   2010      4           0.0\n",
       "4   2011      2           0.0\n",
       "5   2012      5           0.0\n",
       "6   2013     13           0.0\n",
       "7   2014      4           0.0\n",
       "8   2015      2          50.0\n",
       "9   2016     24           0.0\n",
       "10  2017     24           0.0"
      ]
     },
     "execution_count": 34,
     "metadata": {},
     "output_type": "execute_result"
    }
   ],
   "source": [
    "developer('Ubisoft Montreal')\n"
   ]
  },
  {
   "cell_type": "markdown",
   "metadata": {},
   "source": []
  },
  {
   "cell_type": "markdown",
   "metadata": {},
   "source": [
    "Funcion 2"
   ]
  },
  {
   "cell_type": "markdown",
   "metadata": {},
   "source": [
    "+ def **userdata( *`User_id` : str* )**:\n",
    "    Debe devolver `cantidad` de dinero gastado por el usuario, el `porcentaje` de recomendación en base a reviews.recommend y `cantidad de items`.\n",
    "\n",
    "    Ejemplo de retorno: {\"Usuario X\" : us213ndjss09sdf, \"Dinero gastado\": 200 USD, \"% de recomendación\": 20%, \"cantidad de items\": 5}"
   ]
  },
  {
   "cell_type": "markdown",
   "metadata": {},
   "source": [
    "    datset para la segunda funcion"
   ]
  },
  {
   "cell_type": "code",
   "execution_count": 73,
   "metadata": {},
   "outputs": [
    {
     "data": {
      "text/html": [
       "<div>\n",
       "<style scoped>\n",
       "    .dataframe tbody tr th:only-of-type {\n",
       "        vertical-align: middle;\n",
       "    }\n",
       "\n",
       "    .dataframe tbody tr th {\n",
       "        vertical-align: top;\n",
       "    }\n",
       "\n",
       "    .dataframe thead th {\n",
       "        text-align: right;\n",
       "    }\n",
       "</style>\n",
       "<table border=\"1\" class=\"dataframe\">\n",
       "  <thead>\n",
       "    <tr style=\"text-align: right;\">\n",
       "      <th></th>\n",
       "      <th>user_id</th>\n",
       "      <th>recommend</th>\n",
       "    </tr>\n",
       "  </thead>\n",
       "  <tbody>\n",
       "    <tr>\n",
       "      <th>1595</th>\n",
       "      <td>--ace--</td>\n",
       "      <td>True</td>\n",
       "    </tr>\n",
       "    <tr>\n",
       "      <th>35487</th>\n",
       "      <td>--ace--</td>\n",
       "      <td>True</td>\n",
       "    </tr>\n",
       "    <tr>\n",
       "      <th>44015</th>\n",
       "      <td>--ionex--</td>\n",
       "      <td>True</td>\n",
       "    </tr>\n",
       "    <tr>\n",
       "      <th>768</th>\n",
       "      <td>--ionex--</td>\n",
       "      <td>True</td>\n",
       "    </tr>\n",
       "    <tr>\n",
       "      <th>24427</th>\n",
       "      <td>-2SV-vuLB-Kg</td>\n",
       "      <td>True</td>\n",
       "    </tr>\n",
       "    <tr>\n",
       "      <th>...</th>\n",
       "      <td>...</td>\n",
       "      <td>...</td>\n",
       "    </tr>\n",
       "    <tr>\n",
       "      <th>40679</th>\n",
       "      <td>zyr0n1c</td>\n",
       "      <td>True</td>\n",
       "    </tr>\n",
       "    <tr>\n",
       "      <th>12976</th>\n",
       "      <td>zyr0n1c</td>\n",
       "      <td>True</td>\n",
       "    </tr>\n",
       "    <tr>\n",
       "      <th>5210</th>\n",
       "      <td>zyr0n1c</td>\n",
       "      <td>True</td>\n",
       "    </tr>\n",
       "    <tr>\n",
       "      <th>2622</th>\n",
       "      <td>zyr0n1c</td>\n",
       "      <td>True</td>\n",
       "    </tr>\n",
       "    <tr>\n",
       "      <th>22465</th>\n",
       "      <td>zzoptimuszz</td>\n",
       "      <td>True</td>\n",
       "    </tr>\n",
       "  </tbody>\n",
       "</table>\n",
       "<p>45790 rows × 2 columns</p>\n",
       "</div>"
      ],
      "text/plain": [
       "            user_id  recommend\n",
       "1595        --ace--       True\n",
       "35487       --ace--       True\n",
       "44015     --ionex--       True\n",
       "768       --ionex--       True\n",
       "24427  -2SV-vuLB-Kg       True\n",
       "...             ...        ...\n",
       "40679       zyr0n1c       True\n",
       "12976       zyr0n1c       True\n",
       "5210        zyr0n1c       True\n",
       "2622        zyr0n1c       True\n",
       "22465   zzoptimuszz       True\n",
       "\n",
       "[45790 rows x 2 columns]"
      ]
     },
     "execution_count": 73,
     "metadata": {},
     "output_type": "execute_result"
    }
   ],
   "source": [
    "df_f2_games_price = df_games.copy()\n",
    "df_f2_user_games = df_items.copy()\n",
    "df_f2_user_reviews = df_reviews.copy()\n",
    "\n",
    "df_f2_games_price = df_f2_games_price.drop(['developer','name','year','tags','specs','genres','name'], axis=1)\n",
    "\n",
    "df_f2_user_games = df_f2_user_games.drop(['hours_game'], axis=1)\n",
    "\n",
    "df_f2_user_reviews = df_f2_user_reviews.drop(['review','sentiment_analysis', 'helpful','item_id','year'], axis=1)\n",
    "\n",
    "df_f2_user_reviews.sort_values('user_id')\n"
   ]
  },
  {
   "cell_type": "markdown",
   "metadata": {},
   "source": [
    "    guardamos dataset"
   ]
  },
  {
   "cell_type": "code",
   "execution_count": 74,
   "metadata": {},
   "outputs": [],
   "source": [
    "#df_f2_user_reviews.to_csv(r'D:\\projectos\\programacion\\henrry\\bootcamp\\proyecto_individuales\\1\\p1\\Proyecto_Individual_N-1_kalchichen_lucas\\dataset\\Funcciones_dataset\\fun_2_user_rew.csv', index=False)\n",
    "#df_f2_user_reviews.to_json(r'D:\\projectos\\programacion\\henrry\\bootcamp\\proyecto_individuales\\1\\p1\\Proyecto_Individual_N-1_kalchichen_lucas\\dataset\\Funcciones_dataset\\fun_2_user_rew.json', orient='records', lines=True)\n",
    "df_f2_user_reviews.to_parquet(r'D:\\projectos\\programacion\\henrry\\bootcamp\\proyecto_individuales\\1\\p1\\Proyecto_Individual_N-1_kalchichen_lucas\\dataset\\Funcciones_dataset\\fun_2_user_rew.parquet', index=False)\n",
    "\n",
    "#df_f2_user_games.to_csv(r'D:\\projectos\\programacion\\henrry\\bootcamp\\proyecto_individuales\\1\\p1\\Proyecto_Individual_N-1_kalchichen_lucas\\dataset\\Funcciones_dataset\\fun_2_user_games.csv', index=False)\n",
    "#df_f2_user_games.to_json(r'D:\\projectos\\programacion\\henrry\\bootcamp\\proyecto_individuales\\1\\p1\\Proyecto_Individual_N-1_kalchichen_lucas\\dataset\\Funcciones_dataset\\fun_2_user_games.json', orient='records', lines=True)\n",
    "df_f2_user_games.to_parquet(r'D:\\projectos\\programacion\\henrry\\bootcamp\\proyecto_individuales\\1\\p1\\Proyecto_Individual_N-1_kalchichen_lucas\\dataset\\Funcciones_dataset\\fun_2_user_games.parquet', index=False)\n",
    "\n",
    "#df_f2_games_price.to_csv(r'D:\\projectos\\programacion\\henrry\\bootcamp\\proyecto_individuales\\1\\p1\\Proyecto_Individual_N-1_kalchichen_lucas\\dataset\\Funcciones_dataset\\fun_2_games_price.csv', index=False)\n",
    "#df_f2_games_price.to_json(r'D:\\projectos\\programacion\\henrry\\bootcamp\\proyecto_individuales\\1\\p1\\Proyecto_Individual_N-1_kalchichen_lucas\\dataset\\Funcciones_dataset\\fun_2_games_price.json', orient='records', lines=True)\n",
    "df_f2_games_price.to_parquet(r'D:\\projectos\\programacion\\henrry\\bootcamp\\proyecto_individuales\\1\\p1\\Proyecto_Individual_N-1_kalchichen_lucas\\dataset\\Funcciones_dataset\\fun_2_games_price.parquet', index=False)"
   ]
  },
  {
   "cell_type": "code",
   "execution_count": 59,
   "metadata": {},
   "outputs": [],
   "source": [
    "def userdata(user_id: str):\n",
    "\n",
    "  df_games_price = df_f2_games_price.copy()\n",
    "  df_user_games = df_f2_user_games.copy()\n",
    "  df_user_reviews = df_f2_user_reviews.copy()\n",
    "\n",
    "  # Filtrar los juegos que posee el usuario en el DataFrame df_games_price\n",
    "  df_user_games_price = df_games_price[df_games_price['item_id'].isin(df_user_games[df_user_games['user_id'] == user_id]['item_id'])]\n",
    "    \n",
    "  # Filtrar las reviews hechas por el usuario en el DataFrame df_reviews\n",
    "  df_user_reviews = df_user_reviews[df_user_reviews['user_id'] == user_id]\n",
    "    \n",
    "  # Calcular el dinero total gastado por el usuario\n",
    "  total_money_spent = df_user_games_price['price'].sum()\n",
    "    \n",
    "  # Calcular el porcentaje de recomendación basado en reviews.recommend\n",
    "  percentage_recommendation = df_user_reviews['recommend'].mean() * 100 if not df_user_reviews.empty else 0\n",
    "    \n",
    "  # Obtener el número de items\n",
    "  num_items = len(df_user_games_price)\n",
    "  #return df_user_reviews['recommend'].mean()\n",
    "  return {\"Usuario\": user_id, \"Dinero gastado\": total_money_spent, \"% de recomendación\": f\"{percentage_recommendation}%\", \"Cantidad de items\": num_items}\n"
   ]
  },
  {
   "cell_type": "code",
   "execution_count": 60,
   "metadata": {},
   "outputs": [
    {
     "data": {
      "text/plain": [
       "{'Usuario': 'Themfgamer',\n",
       " 'Dinero gastado': 1525.91,\n",
       " '% de recomendación': '0.0%',\n",
       " 'Cantidad de items': 113}"
      ]
     },
     "execution_count": 60,
     "metadata": {},
     "output_type": "execute_result"
    }
   ],
   "source": [
    "userdata('Themfgamer')"
   ]
  },
  {
   "cell_type": "markdown",
   "metadata": {},
   "source": [
    "Funcion 3"
   ]
  },
  {
   "cell_type": "markdown",
   "metadata": {},
   "source": [
    "+ def **UserForGenre( *`genero` : str* )**:\n",
    "    Debe devolver el usuario que acumula más horas jugadas para el género dado y una lista de la acumulación de horas jugadas por año de lanzamiento.\n",
    "\n",
    "    Ejemplo de retorno: {\"Usuario con más horas jugadas para Género X\" : us213ndjss09sdf,\n",
    "\t\t\t     \"Horas jugadas\":[{Año: 2013, Horas: 203}, {Año: 2012, Horas: 100}, {Año: 2011, Horas: 23}]}"
   ]
  },
  {
   "cell_type": "markdown",
   "metadata": {},
   "source": [
    "    dataframes para la tercera funcion"
   ]
  },
  {
   "cell_type": "code",
   "execution_count": 71,
   "metadata": {},
   "outputs": [
    {
     "data": {
      "text/html": [
       "<div>\n",
       "<style scoped>\n",
       "    .dataframe tbody tr th:only-of-type {\n",
       "        vertical-align: middle;\n",
       "    }\n",
       "\n",
       "    .dataframe tbody tr th {\n",
       "        vertical-align: top;\n",
       "    }\n",
       "\n",
       "    .dataframe thead th {\n",
       "        text-align: right;\n",
       "    }\n",
       "</style>\n",
       "<table border=\"1\" class=\"dataframe\">\n",
       "  <thead>\n",
       "    <tr style=\"text-align: right;\">\n",
       "      <th></th>\n",
       "      <th>genres</th>\n",
       "      <th>item_id</th>\n",
       "      <th>year</th>\n",
       "    </tr>\n",
       "  </thead>\n",
       "  <tbody>\n",
       "    <tr>\n",
       "      <th>0</th>\n",
       "      <td>[Action, Strategy]</td>\n",
       "      <td>10</td>\n",
       "      <td>2000</td>\n",
       "    </tr>\n",
       "    <tr>\n",
       "      <th>1</th>\n",
       "      <td>[Indie]</td>\n",
       "      <td>1002</td>\n",
       "      <td>2005</td>\n",
       "    </tr>\n",
       "    <tr>\n",
       "      <th>2</th>\n",
       "      <td>[]</td>\n",
       "      <td>100400</td>\n",
       "      <td>2012</td>\n",
       "    </tr>\n",
       "    <tr>\n",
       "      <th>3</th>\n",
       "      <td>[Action, Adventure]</td>\n",
       "      <td>10090</td>\n",
       "      <td>2008</td>\n",
       "    </tr>\n",
       "    <tr>\n",
       "      <th>4</th>\n",
       "      <td>[]</td>\n",
       "      <td>100980</td>\n",
       "      <td>2012</td>\n",
       "    </tr>\n",
       "    <tr>\n",
       "      <th>...</th>\n",
       "      <td>...</td>\n",
       "      <td>...</td>\n",
       "      <td>...</td>\n",
       "    </tr>\n",
       "    <tr>\n",
       "      <th>32128</th>\n",
       "      <td>[Indie, Casual, Strategy]</td>\n",
       "      <td>99700</td>\n",
       "      <td>2011</td>\n",
       "    </tr>\n",
       "    <tr>\n",
       "      <th>32129</th>\n",
       "      <td>[Casual]</td>\n",
       "      <td>9980</td>\n",
       "      <td>2010</td>\n",
       "    </tr>\n",
       "    <tr>\n",
       "      <th>32130</th>\n",
       "      <td>[Free to Play, Massively Multiplayer, Adventur...</td>\n",
       "      <td>99900</td>\n",
       "      <td>2011</td>\n",
       "    </tr>\n",
       "    <tr>\n",
       "      <th>32131</th>\n",
       "      <td>[Free to Play, Massively Multiplayer, Casual, ...</td>\n",
       "      <td>99910</td>\n",
       "      <td>2011</td>\n",
       "    </tr>\n",
       "    <tr>\n",
       "      <th>32132</th>\n",
       "      <td>[Action, Adventure]</td>\n",
       "      <td>9992</td>\n",
       "      <td>2011</td>\n",
       "    </tr>\n",
       "  </tbody>\n",
       "</table>\n",
       "<p>32133 rows × 3 columns</p>\n",
       "</div>"
      ],
      "text/plain": [
       "                                                  genres item_id  year\n",
       "0                                     [Action, Strategy]      10  2000\n",
       "1                                                [Indie]    1002  2005\n",
       "2                                                     []  100400  2012\n",
       "3                                    [Action, Adventure]   10090  2008\n",
       "4                                                     []  100980  2012\n",
       "...                                                  ...     ...   ...\n",
       "32128                          [Indie, Casual, Strategy]   99700  2011\n",
       "32129                                           [Casual]    9980  2010\n",
       "32130  [Free to Play, Massively Multiplayer, Adventur...   99900  2011\n",
       "32131  [Free to Play, Massively Multiplayer, Casual, ...   99910  2011\n",
       "32132                                [Action, Adventure]    9992  2011\n",
       "\n",
       "[32133 rows x 3 columns]"
      ]
     },
     "execution_count": 71,
     "metadata": {},
     "output_type": "execute_result"
    }
   ],
   "source": [
    "df_f3_genres = df_games.copy()\n",
    "df_f3_users = df_items.copy()\n",
    "# Convertir arrays de NumPy en listas estándar y manejar listas nulas\n",
    "df_f3_genres['genres'] = df_f3_genres['genres'].apply(lambda x: x.tolist() if isinstance(x, np.ndarray) else x if (isinstance(x, list) and x is not None) else [])\n",
    "\n",
    "df_f3_genres.drop(['name', 'tags','specs','price','developer'], axis=1)"
   ]
  },
  {
   "cell_type": "markdown",
   "metadata": {},
   "source": [
    "    creo los archivos para la funcion "
   ]
  },
  {
   "cell_type": "code",
   "execution_count": 72,
   "metadata": {},
   "outputs": [],
   "source": [
    "#df_f3_genres.to_csv(r'D:\\projectos\\programacion\\henrry\\bootcamp\\proyecto_individuales\\1\\p1\\Proyecto_Individual_N-1_kalchichen_lucas\\dataset\\Funcciones_dataset\\fun_3_genres.csv', index=False)\n",
    "#df_f3_genres.to_json(r'D:\\projectos\\programacion\\henrry\\bootcamp\\proyecto_individuales\\1\\p1\\Proyecto_Individual_N-1_kalchichen_lucas\\dataset\\Funcciones_dataset\\fun_3_genres.json', orient='records', lines=True)\n",
    "df_f3_genres.to_parquet(r'D:\\projectos\\programacion\\henrry\\bootcamp\\proyecto_individuales\\1\\p1\\Proyecto_Individual_N-1_kalchichen_lucas\\dataset\\Funcciones_dataset\\fun_3_genres.parquet', index=False)\n",
    "\n",
    "#df_f3_users.to_csv(r'D:\\projectos\\programacion\\henrry\\bootcamp\\proyecto_individuales\\1\\p1\\Proyecto_Individual_N-1_kalchichen_lucas\\dataset\\Funcciones_dataset\\fun_3_users.csv', index=False)\n",
    "#df_f3_users.to_json(r'D:\\projectos\\programacion\\henrry\\bootcamp\\proyecto_individuales\\1\\p1\\Proyecto_Individual_N-1_kalchichen_lucas\\dataset\\Funcciones_dataset\\fun_3_users.json', orient='records', lines=True)\n",
    "df_f3_users.to_parquet(r'D:\\projectos\\programacion\\henrry\\bootcamp\\proyecto_individuales\\1\\p1\\Proyecto_Individual_N-1_kalchichen_lucas\\dataset\\Funcciones_dataset\\fun_3_users.parquet', index=False)"
   ]
  },
  {
   "cell_type": "code",
   "execution_count": 69,
   "metadata": {},
   "outputs": [],
   "source": [
    "def UserForGenre(genero: str):\n",
    "\n",
    "  df_genres = df_f3_genres.copy()\n",
    "  df_users = df_f3_users.copy()\n",
    "  # Filtrar el DataFrame para dejar solo los juegos que contengan el género especificado\n",
    "  df_genre = df_genres[df_genres['genres'].apply(lambda x: genero in x if isinstance(x, list) else False)]\n",
    "\n",
    "  # Filtrar los usuarios que poseen los juegos del género específico\n",
    "  df_user_aggregated = df_users[df_users['item_id'].isin(df_genre['item_id'])]\n",
    "    \n",
    "  # Merge para concatenar el año de df_genre a df_user_aggregated basado en el item_id\n",
    "  df_user_aggregated = df_user_aggregated.merge(df_genre[['item_id', 'year']], on='item_id', how='left')\n",
    "    \n",
    "  # Calcular la suma de las horas jugadas por cada usuario a los juegos del género específico\n",
    "  user_hours_per_game = df_user_aggregated.groupby('user_id')['hours_game'].sum()\n",
    "    \n",
    "  # Obtener al usuario con más horas jugadas\n",
    "  user_most_hours_user_id = user_hours_per_game.idxmax()\n",
    "    \n",
    "  # Filtrar las horas jugadas por el usuario con más horas jugadas\n",
    "  user_most_hours_df = df_user_aggregated[df_user_aggregated['user_id'] == user_most_hours_user_id]\n",
    "    \n",
    "  # Calcular la cantidad de horas jugadas por año del usuario con más horas jugadas considerando el año de publicación del juego\n",
    "  hours_per_year = user_most_hours_df.groupby('year')['hours_game'].sum().reset_index()\n",
    "    \n",
    "  # Formatear el resultado en el formato especificado\n",
    "  result = {\n",
    "        \"Usuario con más horas jugadas para \" + genero: user_most_hours_user_id,\n",
    "        \"Horas jugadas\": [{\"Año\": int(row['year']), \"Horas\": int(row['hours_game'])} for index, row in hours_per_year.iterrows()]\n",
    "  }\n",
    "    \n",
    "  return result\n",
    "    \n",
    "# Suponiendo que tienes un DataFrame df_games y quieres filtrar por el género 'Action'\n",
    "df_juegos_genero_action = UserForGenre('Action')"
   ]
  },
  {
   "cell_type": "code",
   "execution_count": 62,
   "metadata": {},
   "outputs": [
    {
     "data": {
      "text/plain": [
       "{'Usuario con más horas jugadas para Indie': 'REBAS_AS_F-T',\n",
       " 'Horas jugadas': [{'Año': 2001, 'Horas': 0},\n",
       "  {'Año': 2003, 'Horas': 31},\n",
       "  {'Año': 2005, 'Horas': 36},\n",
       "  {'Año': 2006, 'Horas': 27},\n",
       "  {'Año': 2007, 'Horas': 17},\n",
       "  {'Año': 2008, 'Horas': 22},\n",
       "  {'Año': 2009, 'Horas': 483},\n",
       "  {'Año': 2010, 'Horas': 361},\n",
       "  {'Año': 2011, 'Horas': 1810},\n",
       "  {'Año': 2012, 'Horas': 2619},\n",
       "  {'Año': 2013, 'Horas': 3361},\n",
       "  {'Año': 2014, 'Horas': 6021},\n",
       "  {'Año': 2015, 'Horas': 13057},\n",
       "  {'Año': 2016, 'Horas': 14530},\n",
       "  {'Año': 2017, 'Horas': 564}]}"
      ]
     },
     "execution_count": 62,
     "metadata": {},
     "output_type": "execute_result"
    }
   ],
   "source": [
    "UserForGenre('Indie')"
   ]
  },
  {
   "cell_type": "markdown",
   "metadata": {},
   "source": [
    "Funcion 4"
   ]
  },
  {
   "cell_type": "markdown",
   "metadata": {},
   "source": [
    "+ def **best_developer_year( *`año` : int* )**:\n",
    "   Devuelve el top 3 de desarrolladores con juegos MÁS recomendados por usuarios para el año dado. (reviews.recommend = True y comentarios positivos)\n",
    "  \n",
    "    Ejemplo de retorno: [{\"Puesto 1\" : X}, {\"Puesto 2\" : Y},{\"Puesto 3\" : Z}]"
   ]
  },
  {
   "cell_type": "markdown",
   "metadata": {},
   "source": [
    "     dataframe para la cuarta funcion"
   ]
  },
  {
   "cell_type": "code",
   "execution_count": 69,
   "metadata": {},
   "outputs": [
    {
     "data": {
      "text/html": [
       "<div>\n",
       "<style scoped>\n",
       "    .dataframe tbody tr th:only-of-type {\n",
       "        vertical-align: middle;\n",
       "    }\n",
       "\n",
       "    .dataframe tbody tr th {\n",
       "        vertical-align: top;\n",
       "    }\n",
       "\n",
       "    .dataframe thead th {\n",
       "        text-align: right;\n",
       "    }\n",
       "</style>\n",
       "<table border=\"1\" class=\"dataframe\">\n",
       "  <thead>\n",
       "    <tr style=\"text-align: right;\">\n",
       "      <th></th>\n",
       "      <th>item_id</th>\n",
       "      <th>developer</th>\n",
       "    </tr>\n",
       "  </thead>\n",
       "  <tbody>\n",
       "    <tr>\n",
       "      <th>0</th>\n",
       "      <td>10</td>\n",
       "      <td>Valve</td>\n",
       "    </tr>\n",
       "    <tr>\n",
       "      <th>1</th>\n",
       "      <td>1002</td>\n",
       "      <td>Mark Healey</td>\n",
       "    </tr>\n",
       "    <tr>\n",
       "      <th>2</th>\n",
       "      <td>100400</td>\n",
       "      <td>Nevercenter Ltd. Co.</td>\n",
       "    </tr>\n",
       "    <tr>\n",
       "      <th>3</th>\n",
       "      <td>10090</td>\n",
       "      <td>Treyarch</td>\n",
       "    </tr>\n",
       "    <tr>\n",
       "      <th>4</th>\n",
       "      <td>100980</td>\n",
       "      <td>Pilgway</td>\n",
       "    </tr>\n",
       "    <tr>\n",
       "      <th>...</th>\n",
       "      <td>...</td>\n",
       "      <td>...</td>\n",
       "    </tr>\n",
       "    <tr>\n",
       "      <th>32128</th>\n",
       "      <td>99700</td>\n",
       "      <td>Nicalis, Inc.</td>\n",
       "    </tr>\n",
       "    <tr>\n",
       "      <th>32129</th>\n",
       "      <td>9980</td>\n",
       "      <td>Artech Studios</td>\n",
       "    </tr>\n",
       "    <tr>\n",
       "      <th>32130</th>\n",
       "      <td>99900</td>\n",
       "      <td>Grey Havens</td>\n",
       "    </tr>\n",
       "    <tr>\n",
       "      <th>32131</th>\n",
       "      <td>99910</td>\n",
       "      <td>Three Rings</td>\n",
       "    </tr>\n",
       "    <tr>\n",
       "      <th>32132</th>\n",
       "      <td>9992</td>\n",
       "      <td>Behaviour</td>\n",
       "    </tr>\n",
       "  </tbody>\n",
       "</table>\n",
       "<p>32133 rows × 2 columns</p>\n",
       "</div>"
      ],
      "text/plain": [
       "      item_id             developer\n",
       "0          10                 Valve\n",
       "1        1002           Mark Healey\n",
       "2      100400  Nevercenter Ltd. Co.\n",
       "3       10090              Treyarch\n",
       "4      100980               Pilgway\n",
       "...       ...                   ...\n",
       "32128   99700         Nicalis, Inc.\n",
       "32129    9980        Artech Studios\n",
       "32130   99900           Grey Havens\n",
       "32131   99910           Three Rings\n",
       "32132    9992             Behaviour\n",
       "\n",
       "[32133 rows x 2 columns]"
      ]
     },
     "execution_count": 69,
     "metadata": {},
     "output_type": "execute_result"
    }
   ],
   "source": [
    "df_f4_reviewed_games = df_games.copy()\n",
    "df_f4_rv = df_reviews.copy()\n",
    "\n",
    "df_f4_rv.drop(['review', 'helpful','user_id'], axis=1)\n",
    "df_f4_reviewed_games.drop(['genres','name','year','tags','specs','price','name'], axis=1)"
   ]
  },
  {
   "cell_type": "markdown",
   "metadata": {},
   "source": [
    "    guardamos los archivos"
   ]
  },
  {
   "cell_type": "code",
   "execution_count": 70,
   "metadata": {},
   "outputs": [],
   "source": [
    "#df_f4_rv.to_csv(r'D:\\projectos\\programacion\\henrry\\bootcamp\\proyecto_individuales\\1\\p1\\Proyecto_Individual_N-1_kalchichen_lucas\\dataset\\Funcciones_dataset\\fun_4_rv.csv', index=False)\n",
    "#df_f4_rv.to_json(r'D:\\projectos\\programacion\\henrry\\bootcamp\\proyecto_individuales\\1\\p1\\Proyecto_Individual_N-1_kalchichen_lucas\\dataset\\Funcciones_dataset\\fun_4_rv.json', orient='records', lines=True)\n",
    "df_f4_rv.to_parquet(r'D:\\projectos\\programacion\\henrry\\bootcamp\\proyecto_individuales\\1\\p1\\Proyecto_Individual_N-1_kalchichen_lucas\\dataset\\Funcciones_dataset\\fun_4_rv.parquet', index=False)\n",
    "\n",
    "#df_f4_reviewed_games.to_csv(r'D:\\projectos\\programacion\\henrry\\bootcamp\\proyecto_individuales\\1\\p1\\Proyecto_Individual_N-1_kalchichen_lucas\\dataset\\Funcciones_dataset\\fun_4_reviewed_g.csv', index=False)\n",
    "#df_f4_reviewed_games.to_json(r'D:\\projectos\\programacion\\henrry\\bootcamp\\proyecto_individuales\\1\\p1\\Proyecto_Individual_N-1_kalchichen_lucas\\dataset\\Funcciones_dataset\\fun_4_reviewed_g.json', orient='records', lines=True)\n",
    "df_f4_reviewed_games.to_parquet(r'D:\\projectos\\programacion\\henrry\\bootcamp\\proyecto_individuales\\1\\p1\\Proyecto_Individual_N-1_kalchichen_lucas\\dataset\\Funcciones_dataset\\fun_4_reviewed_g.parquet', index=False)"
   ]
  },
  {
   "cell_type": "code",
   "execution_count": 67,
   "metadata": {},
   "outputs": [],
   "source": [
    "def best_developer_year(year: int):\n",
    "  df_reviewed_games = df_f4_reviewed_games.copy()\n",
    "  df_rv = df_f4_rv.copy()\n",
    "  df_reviewed_games = df_reviewed_games[df_reviewed_games['year'] == year]  # Filtrar por el año dado\n",
    "  df_reviewed_games = df_reviewed_games.merge(df_rv, on='item_id')  # Combinar con el DataFrame de reviews\n",
    "    \n",
    "  # Filtrar por reviews positivas (recommend = True y sentiment_analysis = 2)\n",
    "  positive_reviews = df_reviewed_games[(df_reviewed_games['recommend'] == True) & (df_reviewed_games['sentiment_analysis'] == 2)]\n",
    "    \n",
    "  # Contar los juegos más recomendados por usuarios por desarrollador\n",
    "  top_developers = positive_reviews.groupby('developer').size().nlargest(3)\n",
    "    \n",
    "    # Crear el formato de retorno\n",
    "  resultado = [{\"Puesto 1\" : top_developers.index[0]}, {\"Puesto 2\" : top_developers.index[1]}, {\"Puesto 3\" : top_developers.index[2]}]\n",
    "    \n",
    "  return resultado"
   ]
  },
  {
   "cell_type": "code",
   "execution_count": 70,
   "metadata": {},
   "outputs": [
    {
     "data": {
      "text/plain": [
       "[{'Puesto 1': 'Firaxis Games'},\n",
       " {'Puesto 2': 'Gearbox Software'},\n",
       " {'Puesto 3': 'Ensemble Studios'}]"
      ]
     },
     "execution_count": 70,
     "metadata": {},
     "output_type": "execute_result"
    }
   ],
   "source": [
    "best_developer_year(2001)"
   ]
  },
  {
   "cell_type": "markdown",
   "metadata": {},
   "source": [
    "Funcion 5"
   ]
  },
  {
   "cell_type": "markdown",
   "metadata": {},
   "source": [
    "+ def **developer_reviews_analysis( *`desarrolladora` : str* )**:\n",
    "    Según el desarrollador, se devuelve un diccionario con el nombre del desarrollador como llave y una lista con la cantidad total \n",
    "    de registros de reseñas de usuarios que se encuentren categorizados con un análisis de sentimiento como valor positivo o negativo. \n",
    "\n",
    "    Ejemplo de retorno: {'Valve' : [Negative = 182, Positive = 278]}"
   ]
  },
  {
   "cell_type": "markdown",
   "metadata": {},
   "source": [
    "    creamos dataframe para la quinta funcion"
   ]
  },
  {
   "cell_type": "code",
   "execution_count": 67,
   "metadata": {},
   "outputs": [
    {
     "data": {
      "text/html": [
       "<div>\n",
       "<style scoped>\n",
       "    .dataframe tbody tr th:only-of-type {\n",
       "        vertical-align: middle;\n",
       "    }\n",
       "\n",
       "    .dataframe tbody tr th {\n",
       "        vertical-align: top;\n",
       "    }\n",
       "\n",
       "    .dataframe thead th {\n",
       "        text-align: right;\n",
       "    }\n",
       "</style>\n",
       "<table border=\"1\" class=\"dataframe\">\n",
       "  <thead>\n",
       "    <tr style=\"text-align: right;\">\n",
       "      <th></th>\n",
       "      <th>item_id</th>\n",
       "      <th>recommend</th>\n",
       "      <th>sentiment_analysis</th>\n",
       "    </tr>\n",
       "  </thead>\n",
       "  <tbody>\n",
       "    <tr>\n",
       "      <th>0</th>\n",
       "      <td>10</td>\n",
       "      <td>True</td>\n",
       "      <td>2</td>\n",
       "    </tr>\n",
       "    <tr>\n",
       "      <th>1</th>\n",
       "      <td>10</td>\n",
       "      <td>True</td>\n",
       "      <td>1</td>\n",
       "    </tr>\n",
       "    <tr>\n",
       "      <th>2</th>\n",
       "      <td>10</td>\n",
       "      <td>True</td>\n",
       "      <td>2</td>\n",
       "    </tr>\n",
       "    <tr>\n",
       "      <th>3</th>\n",
       "      <td>10</td>\n",
       "      <td>True</td>\n",
       "      <td>2</td>\n",
       "    </tr>\n",
       "    <tr>\n",
       "      <th>4</th>\n",
       "      <td>10</td>\n",
       "      <td>True</td>\n",
       "      <td>2</td>\n",
       "    </tr>\n",
       "    <tr>\n",
       "      <th>...</th>\n",
       "      <td>...</td>\n",
       "      <td>...</td>\n",
       "      <td>...</td>\n",
       "    </tr>\n",
       "    <tr>\n",
       "      <th>45785</th>\n",
       "      <td>99900</td>\n",
       "      <td>True</td>\n",
       "      <td>2</td>\n",
       "    </tr>\n",
       "    <tr>\n",
       "      <th>45786</th>\n",
       "      <td>99900</td>\n",
       "      <td>True</td>\n",
       "      <td>2</td>\n",
       "    </tr>\n",
       "    <tr>\n",
       "      <th>45787</th>\n",
       "      <td>99910</td>\n",
       "      <td>True</td>\n",
       "      <td>2</td>\n",
       "    </tr>\n",
       "    <tr>\n",
       "      <th>45788</th>\n",
       "      <td>99910</td>\n",
       "      <td>False</td>\n",
       "      <td>0</td>\n",
       "    </tr>\n",
       "    <tr>\n",
       "      <th>45789</th>\n",
       "      <td>99910</td>\n",
       "      <td>True</td>\n",
       "      <td>2</td>\n",
       "    </tr>\n",
       "  </tbody>\n",
       "</table>\n",
       "<p>45790 rows × 3 columns</p>\n",
       "</div>"
      ],
      "text/plain": [
       "      item_id  recommend  sentiment_analysis\n",
       "0          10       True                   2\n",
       "1          10       True                   1\n",
       "2          10       True                   2\n",
       "3          10       True                   2\n",
       "4          10       True                   2\n",
       "...       ...        ...                 ...\n",
       "45785   99900       True                   2\n",
       "45786   99900       True                   2\n",
       "45787   99910       True                   2\n",
       "45788   99910      False                   0\n",
       "45789   99910       True                   2\n",
       "\n",
       "[45790 rows x 3 columns]"
      ]
     },
     "execution_count": 67,
     "metadata": {},
     "output_type": "execute_result"
    }
   ],
   "source": [
    "df_f5_devs = df_games.copy()\n",
    "df_f5_reviewed_games = df_reviews.copy()\n",
    "df_f5_devs.drop(['genres','name','tags','specs','price','year'], axis=1)\n",
    "\n",
    "df_f5_reviewed_games.drop(['user_id', 'helpful','review','year'], axis=1)\n"
   ]
  },
  {
   "cell_type": "markdown",
   "metadata": {},
   "source": [
    "    guardamos los dataframes para las funciones"
   ]
  },
  {
   "cell_type": "code",
   "execution_count": 68,
   "metadata": {},
   "outputs": [],
   "source": [
    "#df_f5_devs.to_csv(r'D:\\projectos\\programacion\\henrry\\bootcamp\\proyecto_individuales\\1\\p1\\Proyecto_Individual_N-1_kalchichen_lucas\\dataset\\Funcciones_dataset\\fun_5_devs.csv', index=False)\n",
    "#df_f5_devs.to_json(r'D:\\projectos\\programacion\\henrry\\bootcamp\\proyecto_individuales\\1\\p1\\Proyecto_Individual_N-1_kalchichen_lucas\\dataset\\Funcciones_dataset\\fun_5_devs.json', orient='records', lines=True)\n",
    "df_f5_devs.to_parquet(r'D:\\projectos\\programacion\\henrry\\bootcamp\\proyecto_individuales\\1\\p1\\Proyecto_Individual_N-1_kalchichen_lucas\\dataset\\Funcciones_dataset\\fun_5_devs.parquet', index=False)\n",
    "\n",
    "#df_f5_reviewed_games.to_csv(r'D:\\projectos\\programacion\\henrry\\bootcamp\\proyecto_individuales\\1\\p1\\Proyecto_Individual_N-1_kalchichen_lucas\\dataset\\Funcciones_dataset\\fun_5_reviewd_games.csv', index=False)\n",
    "#df_f5_reviewed_games.to_json(r'D:\\projectos\\programacion\\henrry\\bootcamp\\proyecto_individuales\\1\\p1\\Proyecto_Individual_N-1_kalchichen_lucas\\dataset\\Funcciones_dataset\\fun_5_reviewd_games.json', orient='records', lines=True)\n",
    "df_f5_reviewed_games.to_parquet(r'D:\\projectos\\programacion\\henrry\\bootcamp\\proyecto_individuales\\1\\p1\\Proyecto_Individual_N-1_kalchichen_lucas\\dataset\\Funcciones_dataset\\fun_5_reviewd_games.parquet', index=False)"
   ]
  },
  {
   "cell_type": "code",
   "execution_count": 39,
   "metadata": {},
   "outputs": [],
   "source": [
    "def developer_reviews_analysis(desarrolladora: str):\n",
    "  df_dev = df_f5_devs.copy()\n",
    "  df_reviews = df_f5_reviewed_games.copy()\n",
    "  df_dev = df_dev[df_dev['developer'] == desarrolladora]\n",
    "  df_dev_reviews = df_reviews[df_reviews['item_id'].isin(df_dev['item_id'])]\n",
    "    \n",
    "  # Filtrar las reviews con análisis de sentimiento positivo y negativo\n",
    "  positive_reviews = df_dev_reviews[df_dev_reviews['sentiment_analysis'] == 2]\n",
    "  negative_reviews = df_dev_reviews[df_dev_reviews['sentiment_analysis'] == 1]\n",
    "    \n",
    "  # Contar el total de reviews positivas y negativas por desarrollador\n",
    "  positive_count = len(positive_reviews)\n",
    "  negative_count = len(negative_reviews)\n",
    "    \n",
    "  return {desarrolladora: ['Negative = ' + str(negative_count), 'Positive = ' + str(positive_count)]}\n"
   ]
  },
  {
   "cell_type": "code",
   "execution_count": 40,
   "metadata": {},
   "outputs": [
    {
     "data": {
      "text/plain": [
       "{'Gearbox Software': ['Negative = 8', 'Positive = 54']}"
      ]
     },
     "execution_count": 40,
     "metadata": {},
     "output_type": "execute_result"
    }
   ],
   "source": [
    "developer_reviews_analysis('Gearbox Software')"
   ]
  },
  {
   "cell_type": "markdown",
   "metadata": {},
   "source": [
    "    funcion de recomendacion\n"
   ]
  },
  {
   "cell_type": "markdown",
   "metadata": {},
   "source": [
    "En la primera, el modelo deberá tener una relación ítem-ítem, esto es se toma un item, en base a que tan similar esa ese ítem al resto, se recomiendan similares. Aquí el input es un juego y el output es una lista de juegos recomendados, para ello recomendamos aplicar la similitud del coseno."
   ]
  },
  {
   "cell_type": "markdown",
   "metadata": {},
   "source": [
    "creo el dataframe para la funcion de recomendacion"
   ]
  },
  {
   "cell_type": "code",
   "execution_count": 66,
   "metadata": {},
   "outputs": [],
   "source": [
    "df_f6_recomendaciones = df_games.copy()\n",
    "df_f6_recomendaciones = df_f6_recomendaciones.drop(['tags','specs','price','year','developer'], axis=1)\n",
    "df_f6_recomendaciones['genres']= df_f6_recomendaciones['genres'].astype(str)\n",
    "\n"
   ]
  },
  {
   "cell_type": "code",
   "execution_count": 65,
   "metadata": {},
   "outputs": [],
   "source": [
    "#df_f6_recomendaciones.to_csv(r'D:\\projectos\\programacion\\henrry\\bootcamp\\proyecto_individuales\\1\\p1\\Proyecto_Individual_N-1_kalchichen_lucas\\dataset\\Funcciones_dataset\\fun_6_recomendations.csv', index=False)\n",
    "#df_f6_recomendaciones.to_json(r'D:\\projectos\\programacion\\henrry\\bootcamp\\proyecto_individuales\\1\\p1\\Proyecto_Individual_N-1_kalchichen_lucas\\dataset\\Funcciones_dataset\\fun_6_recomendations.json', orient='records', lines=True)\n",
    "df_f6_recomendaciones.to_parquet(r'D:\\projectos\\programacion\\henrry\\bootcamp\\proyecto_individuales\\1\\p1\\Proyecto_Individual_N-1_kalchichen_lucas\\dataset\\Funcciones_dataset\\fun_6_recomendations.parquet', index=False)"
   ]
  },
  {
   "cell_type": "code",
   "execution_count": 60,
   "metadata": {},
   "outputs": [],
   "source": [
    "def recommendar(id_item:str):   \n",
    "\n",
    "    df_recomendacion = df_f6_recomendaciones.copy()\n",
    "    \n",
    "    vectorizar = TfidfVectorizer(min_df=10, max_df=0.5, ngram_range=(1,2), stop_words='english')\n",
    "    \n",
    "    tfidf_matriz = vectorizar.fit_transform(df_recomendacion['genres'])\n",
    "\n",
    "    cosineSim = linear_kernel(tfidf_matriz[:1000,:])\n",
    "\n",
    "    indices = pd.Series(df_recomendacion.index, index=df_recomendacion['item_id']).drop_duplicates()\n",
    "\n",
    "    idx = indices[id_item]\n",
    "\n",
    "    simScores = list(enumerate(cosineSim[idx]))\n",
    "\n",
    "    simScores = sorted(simScores, key=lambda x: x[1], reverse=True)\n",
    "\n",
    "    simScores = simScores[1:6]\n",
    "\n",
    "    itemIndices = [i[0] for i in simScores]\n",
    "\n",
    "    result=df_recomendacion['name'].iloc[itemIndices].values\n",
    "    \n",
    "    return dict(enumerate(result.flatten(), 1))"
   ]
  },
  {
   "cell_type": "code",
   "execution_count": 75,
   "metadata": {},
   "outputs": [
    {
     "name": "stderr",
     "output_type": "stream",
     "text": [
      "C:\\Users\\lucas\\AppData\\Local\\Temp\\ipykernel_16252\\778785343.py:13: FutureWarning: Series.__getitem__ treating keys as positions is deprecated. In a future version, integer keys will always be treated as labels (consistent with DataFrame behavior). To access a value by position, use `ser.iloc[pos]`\n",
      "  idx = indices[id_item]\n"
     ]
    },
    {
     "data": {
      "text/plain": [
       "{1: 'Crysis 2 - Maximum Edition',\n",
       " 2: 'Prototype 2',\n",
       " 3: 'Grand Theft Auto: San Andreas',\n",
       " 4: \"Unreal Tournament 2004: Editor's Choice Edition\",\n",
       " 5: \"Assassin's Creed™: Director's Cut Edition\"}"
      ]
     },
     "execution_count": 75,
     "metadata": {},
     "output_type": "execute_result"
    }
   ],
   "source": [
    "recommendar(10)"
   ]
  }
 ],
 "metadata": {
  "kernelspec": {
   "display_name": "Projecto",
   "language": "python",
   "name": "python3"
  },
  "language_info": {
   "codemirror_mode": {
    "name": "ipython",
    "version": 3
   },
   "file_extension": ".py",
   "mimetype": "text/x-python",
   "name": "python",
   "nbconvert_exporter": "python",
   "pygments_lexer": "ipython3",
   "version": "3.11.1"
  }
 },
 "nbformat": 4,
 "nbformat_minor": 2
}
