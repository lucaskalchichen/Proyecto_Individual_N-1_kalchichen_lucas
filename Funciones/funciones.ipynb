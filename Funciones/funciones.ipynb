{
 "cells": [
  {
   "cell_type": "markdown",
   "metadata": {},
   "source": [
    "Importo Librerias"
   ]
  },
  {
   "cell_type": "code",
   "execution_count": 4,
   "metadata": {},
   "outputs": [],
   "source": [
    "import pandas as pd\n",
    "import numpy as np \n",
    "import ast"
   ]
  },
  {
   "cell_type": "markdown",
   "metadata": {},
   "source": [
    "Cargo Dataframes de trabajo"
   ]
  },
  {
   "cell_type": "code",
   "execution_count": 5,
   "metadata": {},
   "outputs": [],
   "source": [
    "df_games = pd.read_parquet(r'D:\\projectos\\programacion\\henrry\\bootcamp\\proyecto_individuales\\1\\p1\\Proyecto_Individual_N-1_kalchichen_lucas\\dataset\\ETL_dataset\\steam_games_clean.parquet')\n",
    "df_items = pd.read_parquet(r'D:\\projectos\\programacion\\henrry\\bootcamp\\proyecto_individuales\\1\\p1\\Proyecto_Individual_N-1_kalchichen_lucas\\dataset\\ETL_dataset\\user_items_cleaned.parquet')\n",
    "df_reviews = pd.read_parquet(r'D:\\projectos\\programacion\\henrry\\bootcamp\\proyecto_individuales\\1\\p1\\Proyecto_Individual_N-1_kalchichen_lucas\\dataset\\ETL_dataset\\users_reviews_cleaned.parquet')"
   ]
  },
  {
   "cell_type": "markdown",
   "metadata": {},
   "source": [
    "Funcion 1"
   ]
  },
  {
   "cell_type": "markdown",
   "metadata": {},
   "source": [
    "+ def **developer( *`desarrollador` : str* )**:\n",
    "    `Cantidad` de items y `porcentaje` de contenido Free por año según empresa desarrolladora. \n",
    "Ejemplo de retorno:\n",
    "\n",
    "| Año  | Cantidad de Items | Contenido Free  |\n",
    "|------|-------------------|------------------|\n",
    "| 2023 | 50                | 27%              |\n",
    "| 2022 | 45                | 25%              |\n",
    "| xxxx | xx                | xx%              |\n",
    "\n",
    "    "
   ]
  },
  {
   "cell_type": "code",
   "execution_count": 61,
   "metadata": {},
   "outputs": [],
   "source": [
    "def developer(dev: str):\n",
    "    df_dev = df_games[df_games['developer'] == dev]\n",
    "    \n",
    "    # Calculate the number of items per year\n",
    "    items_per_year = df_dev.groupby('year').size()\n",
    "    \n",
    "    # Calculate the percentage of free content per year\n",
    "    free_content_per_year = df_dev[df_dev['price'] == 0.0].groupby('year').size() / items_per_year.replace(0, np.nan) * 100\n",
    "    free_content_per_year = free_content_per_year.fillna(0)  # Replace NaN values with 0\n",
    "    \n",
    "    data = []\n",
    "    for year in items_per_year.index:\n",
    "        data.append([year, items_per_year[year], free_content_per_year.get(year, 0)])  # Retrieve the value or default to 0\n",
    "        \n",
    "    data_return = pd.DataFrame(data, columns=['year', 'items', 'free_content'])\n",
    "    return data_return\n"
   ]
  },
  {
   "cell_type": "code",
   "execution_count": 62,
   "metadata": {},
   "outputs": [
    {
     "data": {
      "text/html": [
       "<div>\n",
       "<style scoped>\n",
       "    .dataframe tbody tr th:only-of-type {\n",
       "        vertical-align: middle;\n",
       "    }\n",
       "\n",
       "    .dataframe tbody tr th {\n",
       "        vertical-align: top;\n",
       "    }\n",
       "\n",
       "    .dataframe thead th {\n",
       "        text-align: right;\n",
       "    }\n",
       "</style>\n",
       "<table border=\"1\" class=\"dataframe\">\n",
       "  <thead>\n",
       "    <tr style=\"text-align: right;\">\n",
       "      <th></th>\n",
       "      <th>year</th>\n",
       "      <th>items</th>\n",
       "      <th>free_content</th>\n",
       "    </tr>\n",
       "  </thead>\n",
       "  <tbody>\n",
       "    <tr>\n",
       "      <th>0</th>\n",
       "      <td>2005</td>\n",
       "      <td>2</td>\n",
       "      <td>0.0</td>\n",
       "    </tr>\n",
       "    <tr>\n",
       "      <th>1</th>\n",
       "      <td>2006</td>\n",
       "      <td>2</td>\n",
       "      <td>0.0</td>\n",
       "    </tr>\n",
       "    <tr>\n",
       "      <th>2</th>\n",
       "      <td>2008</td>\n",
       "      <td>4</td>\n",
       "      <td>0.0</td>\n",
       "    </tr>\n",
       "    <tr>\n",
       "      <th>3</th>\n",
       "      <td>2010</td>\n",
       "      <td>4</td>\n",
       "      <td>0.0</td>\n",
       "    </tr>\n",
       "    <tr>\n",
       "      <th>4</th>\n",
       "      <td>2011</td>\n",
       "      <td>2</td>\n",
       "      <td>0.0</td>\n",
       "    </tr>\n",
       "    <tr>\n",
       "      <th>5</th>\n",
       "      <td>2012</td>\n",
       "      <td>5</td>\n",
       "      <td>0.0</td>\n",
       "    </tr>\n",
       "    <tr>\n",
       "      <th>6</th>\n",
       "      <td>2013</td>\n",
       "      <td>13</td>\n",
       "      <td>0.0</td>\n",
       "    </tr>\n",
       "    <tr>\n",
       "      <th>7</th>\n",
       "      <td>2014</td>\n",
       "      <td>4</td>\n",
       "      <td>0.0</td>\n",
       "    </tr>\n",
       "    <tr>\n",
       "      <th>8</th>\n",
       "      <td>2015</td>\n",
       "      <td>2</td>\n",
       "      <td>50.0</td>\n",
       "    </tr>\n",
       "    <tr>\n",
       "      <th>9</th>\n",
       "      <td>2016</td>\n",
       "      <td>24</td>\n",
       "      <td>0.0</td>\n",
       "    </tr>\n",
       "    <tr>\n",
       "      <th>10</th>\n",
       "      <td>2017</td>\n",
       "      <td>24</td>\n",
       "      <td>0.0</td>\n",
       "    </tr>\n",
       "  </tbody>\n",
       "</table>\n",
       "</div>"
      ],
      "text/plain": [
       "    year  items  free_content\n",
       "0   2005      2           0.0\n",
       "1   2006      2           0.0\n",
       "2   2008      4           0.0\n",
       "3   2010      4           0.0\n",
       "4   2011      2           0.0\n",
       "5   2012      5           0.0\n",
       "6   2013     13           0.0\n",
       "7   2014      4           0.0\n",
       "8   2015      2          50.0\n",
       "9   2016     24           0.0\n",
       "10  2017     24           0.0"
      ]
     },
     "execution_count": 62,
     "metadata": {},
     "output_type": "execute_result"
    }
   ],
   "source": [
    "developer('Ubisoft Montreal')\n"
   ]
  },
  {
   "cell_type": "markdown",
   "metadata": {},
   "source": []
  },
  {
   "cell_type": "markdown",
   "metadata": {},
   "source": [
    "Funcion 2"
   ]
  },
  {
   "cell_type": "markdown",
   "metadata": {},
   "source": [
    "+ def **userdata( *`User_id` : str* )**:\n",
    "    Debe devolver `cantidad` de dinero gastado por el usuario, el `porcentaje` de recomendación en base a reviews.recommend y `cantidad de items`.\n",
    "\n",
    "    Ejemplo de retorno: {\"Usuario X\" : us213ndjss09sdf, \"Dinero gastado\": 200 USD, \"% de recomendación\": 20%, \"cantidad de items\": 5}"
   ]
  },
  {
   "cell_type": "code",
   "execution_count": 56,
   "metadata": {},
   "outputs": [],
   "source": [
    "def userdata(user_id: str):\n",
    "\n",
    "    df_games_price = df_games.copy()\n",
    "    df_user_games = df_items.copy()\n",
    "    df_user_reviews = df_reviews.copy()\n",
    "    \n",
    "    # Filtrar los juegos que posee el usuario en el DataFrame df_games_price\n",
    "    df_user_games_price = df_games_price[df_games_price['item_id'].isin(df_user_games[df_user_games['user_id'] == user_id]['item_id'])]\n",
    "    \n",
    "    # Filtrar las reviews hechas por el usuario en el DataFrame df_reviews\n",
    "    df_user_reviews = df_reviews[df_reviews['user_id'] == user_id]\n",
    "    \n",
    "    # Calcular el dinero total gastado por el usuario\n",
    "    total_money_spent = df_user_games_price['price'].sum()\n",
    "    \n",
    "    # Calcular el porcentaje de recomendación basado en reviews.recommend\n",
    "    percentage_recommendation = df_user_reviews['recommend'].mean() * 100 if not df_user_reviews.empty else 0\n",
    "    \n",
    "    # Obtener el número de items\n",
    "    num_items = len(df_user_games_price)\n",
    "    \n",
    "    return {\"Usuario\": user_id, \"Dinero gastado\": total_money_spent, \"% de recomendación\": f\"{percentage_recommendation}%\", \"Cantidad de items\": num_items}"
   ]
  },
  {
   "cell_type": "code",
   "execution_count": 57,
   "metadata": {},
   "outputs": [
    {
     "data": {
      "text/plain": [
       "{'Usuario': 'REBAS_AS_F-T',\n",
       " 'Dinero gastado': 14214.63,\n",
       " '% de recomendación': '100.0%',\n",
       " 'Cantidad de items': 1140}"
      ]
     },
     "execution_count": 57,
     "metadata": {},
     "output_type": "execute_result"
    }
   ],
   "source": [
    "userdata('REBAS_AS_F-T')"
   ]
  },
  {
   "cell_type": "markdown",
   "metadata": {},
   "source": [
    "Funcion 3"
   ]
  },
  {
   "cell_type": "markdown",
   "metadata": {},
   "source": [
    "+ def **UserForGenre( *`genero` : str* )**:\n",
    "    Debe devolver el usuario que acumula más horas jugadas para el género dado y una lista de la acumulación de horas jugadas por año de lanzamiento.\n",
    "\n",
    "    Ejemplo de retorno: {\"Usuario con más horas jugadas para Género X\" : us213ndjss09sdf,\n",
    "\t\t\t     \"Horas jugadas\":[{Año: 2013, Horas: 203}, {Año: 2012, Horas: 100}, {Año: 2011, Horas: 23}]}"
   ]
  },
  {
   "cell_type": "code",
   "execution_count": 44,
   "metadata": {},
   "outputs": [],
   "source": [
    "def UserForGenre(genero: str):\n",
    "    df_genre = df_games.copy()\n",
    "    df_user = df_items.copy()\n",
    "    \n",
    "    # Convertir arrays de NumPy en listas estándar y manejar listas nulas\n",
    "    df_genre['genres'] = df_genre['genres'].apply(lambda x: x.tolist() if isinstance(x, np.ndarray) else x if (isinstance(x, list) and x is not None) else [])\n",
    "    \n",
    "    # Filtrar el DataFrame para dejar solo los juegos que contengan el género especificado\n",
    "    df_genre = df_genre[df_genre['genres'].apply(lambda x: genero in x if isinstance(x, list) else False)]\n",
    "\n",
    "    # Filtrar los usuarios que poseen los juegos del género específico\n",
    "    df_user_aggregated = df_user[df_user['item_id'].isin(df_genre['item_id'])]\n",
    "    \n",
    "    # Merge para concatenar el año de df_genre a df_user_aggregated basado en el item_id\n",
    "    df_user_aggregated = df_user_aggregated.merge(df_genre[['item_id', 'year']], on='item_id', how='left')\n",
    "    \n",
    "    # Calcular la suma de las horas jugadas por cada usuario a los juegos del género específico\n",
    "    user_hours_per_game = df_user_aggregated.groupby('user_id')['hours_game'].sum()\n",
    "    \n",
    "    # Obtener al usuario con más horas jugadas\n",
    "    user_most_hours_user_id = user_hours_per_game.idxmax()\n",
    "    \n",
    "    # Filtrar las horas jugadas por el usuario con más horas jugadas\n",
    "    user_most_hours_df = df_user_aggregated[df_user_aggregated['user_id'] == user_most_hours_user_id]\n",
    "    \n",
    "    # Calcular la cantidad de horas jugadas por año del usuario con más horas jugadas considerando el año de publicación del juego\n",
    "    hours_per_year = user_most_hours_df.groupby('year')['hours_game'].sum().reset_index()\n",
    "    \n",
    "    # Formatear el resultado en el formato especificado\n",
    "    result = {\n",
    "        \"Usuario con más horas jugadas para \" + genero: user_most_hours_user_id,\n",
    "        \"Horas jugadas\": [{\"Año\": int(row['year']), \"Horas\": int(row['hours_game'])} for index, row in hours_per_year.iterrows()]\n",
    "    }\n",
    "    \n",
    "    return result\n",
    "\n",
    "    \n",
    "# Suponiendo que tienes un DataFrame df_games y quieres filtrar por el género 'Action'\n",
    "df_juegos_genero_action = UserForGenre('Action')"
   ]
  },
  {
   "cell_type": "code",
   "execution_count": 45,
   "metadata": {},
   "outputs": [
    {
     "data": {
      "text/plain": [
       "{'Usuario con más horas jugadas para Indie': 'REBAS_AS_F-T',\n",
       " 'Horas jugadas': [{'Año': 2001, 'Horas': 0},\n",
       "  {'Año': 2003, 'Horas': 31},\n",
       "  {'Año': 2005, 'Horas': 36},\n",
       "  {'Año': 2006, 'Horas': 27},\n",
       "  {'Año': 2007, 'Horas': 17},\n",
       "  {'Año': 2008, 'Horas': 22},\n",
       "  {'Año': 2009, 'Horas': 483},\n",
       "  {'Año': 2010, 'Horas': 361},\n",
       "  {'Año': 2011, 'Horas': 1810},\n",
       "  {'Año': 2012, 'Horas': 2619},\n",
       "  {'Año': 2013, 'Horas': 3361},\n",
       "  {'Año': 2014, 'Horas': 6021},\n",
       "  {'Año': 2015, 'Horas': 13057},\n",
       "  {'Año': 2016, 'Horas': 14530},\n",
       "  {'Año': 2017, 'Horas': 564}]}"
      ]
     },
     "execution_count": 45,
     "metadata": {},
     "output_type": "execute_result"
    }
   ],
   "source": [
    "UserForGenre('Indie')"
   ]
  },
  {
   "cell_type": "code",
   "execution_count": null,
   "metadata": {},
   "outputs": [],
   "source": [
    "\n",
    "# Definir una función que filtra el DataFrame por género\n",
    "def UserForGenre(genero:str):\n",
    "\n",
    "    df_genre = df_games.copy()\n",
    "   # Convertir las cadenas de la columna 'genres' en listas reales\n",
    "    df_genre['genres'] = df_genre['genres'].apply(ast.literal_eval)\n",
    "\n",
    "# Ahora puedes aplicar join a la columna 'genres'\n",
    "    df_genre['genres_str'] = df_genre['genres'].apply(lambda x: ', '.join(x))\n",
    "\n",
    "    return df_genre\n",
    "\n",
    "# Ejemplo de uso de la función\n",
    "# Suponiendo que tienes un DataFrame df_games y quieres filtrar por el género 'Action'\n",
    "df_juegos_genero_action = UserForGenre('Action')"
   ]
  },
  {
   "cell_type": "markdown",
   "metadata": {},
   "source": [
    "Funcion 4"
   ]
  },
  {
   "cell_type": "markdown",
   "metadata": {},
   "source": [
    "+ def **best_developer_year( *`año` : int* )**:\n",
    "   Devuelve el top 3 de desarrolladores con juegos MÁS recomendados por usuarios para el año dado. (reviews.recommend = True y comentarios positivos)\n",
    "  \n",
    "    Ejemplo de retorno: [{\"Puesto 1\" : X}, {\"Puesto 2\" : Y},{\"Puesto 3\" : Z}]"
   ]
  },
  {
   "cell_type": "code",
   "execution_count": 67,
   "metadata": {},
   "outputs": [],
   "source": [
    "def best_developer_year(año: int):\n",
    "    \n",
    "    df_reviewed_games = df_games.copy()\n",
    "    df_rv = df_reviews.copy()\n",
    "    df_reviewed_games = df_reviewed_games[df_reviewed_games['year'] == año]  # Filtrar por el año dado\n",
    "    df_reviewed_games = df_reviewed_games.merge(df_rv, on='item_id')  # Combinar con el DataFrame de reviews\n",
    "    \n",
    "    # Filtrar por reviews positivas (recommend = True y sentiment_analysis = 2)\n",
    "    positive_reviews = df_reviewed_games[(df_reviewed_games['recommend'] == True) & (df_reviewed_games['sentiment_analysis'] == 2)]\n",
    "    \n",
    "    # Contar los juegos más recomendados por usuarios por desarrollador\n",
    "    top_developers = positive_reviews.groupby('developer').size().nlargest(3)\n",
    "    \n",
    "    # Crear el formato de retorno\n",
    "    resultado = [{\"Puesto 1\" : top_developers.index[0]}, {\"Puesto 2\" : top_developers.index[1]}, {\"Puesto 3\" : top_developers.index[2]}]\n",
    "    \n",
    "    return resultado"
   ]
  },
  {
   "cell_type": "code",
   "execution_count": 70,
   "metadata": {},
   "outputs": [
    {
     "data": {
      "text/plain": [
       "[{'Puesto 1': 'Firaxis Games'},\n",
       " {'Puesto 2': 'Gearbox Software'},\n",
       " {'Puesto 3': 'Ensemble Studios'}]"
      ]
     },
     "execution_count": 70,
     "metadata": {},
     "output_type": "execute_result"
    }
   ],
   "source": [
    "best_developer_year(2001)"
   ]
  },
  {
   "cell_type": "markdown",
   "metadata": {},
   "source": [
    "Funcion 5"
   ]
  },
  {
   "cell_type": "markdown",
   "metadata": {},
   "source": [
    "+ def **developer_reviews_analysis( *`desarrolladora` : str* )**:\n",
    "    Según el desarrollador, se devuelve un diccionario con el nombre del desarrollador como llave y una lista con la cantidad total \n",
    "    de registros de reseñas de usuarios que se encuentren categorizados con un análisis de sentimiento como valor positivo o negativo. \n",
    "\n",
    "    Ejemplo de retorno: {'Valve' : [Negative = 182, Positive = 278]}"
   ]
  },
  {
   "cell_type": "code",
   "execution_count": 6,
   "metadata": {},
   "outputs": [],
   "source": [
    "def developer_reviews_analysis(desarrolladora: str):\n",
    "    df_dev = df_games.copy()\n",
    "    df_dev = df_games[df_games['developer'] == desarrolladora]\n",
    "    df_dev_reviews = df_reviews[df_reviews['item_id'].isin(df_dev['item_id'])]\n",
    "    \n",
    "    # Filtrar las reviews con análisis de sentimiento positivo y negativo\n",
    "    positive_reviews = df_dev_reviews[df_dev_reviews['sentiment_analysis'] == 2]\n",
    "    negative_reviews = df_dev_reviews[df_dev_reviews['sentiment_analysis'] == 1]\n",
    "    \n",
    "    # Contar el total de reviews positivas y negativas por desarrollador\n",
    "    positive_count = len(positive_reviews)\n",
    "    negative_count = len(negative_reviews)\n",
    "    \n",
    "    return {desarrolladora: ['Negative = ' + str(negative_count), 'Positive = ' + str(positive_count)]}"
   ]
  },
  {
   "cell_type": "code",
   "execution_count": 8,
   "metadata": {},
   "outputs": [
    {
     "data": {
      "text/plain": [
       "{'Gearbox Software': ['Negative = 8', 'Positive = 54']}"
      ]
     },
     "execution_count": 8,
     "metadata": {},
     "output_type": "execute_result"
    }
   ],
   "source": [
    "developer_reviews_analysis('Gearbox Software')"
   ]
  }
 ],
 "metadata": {
  "kernelspec": {
   "display_name": "Projecto",
   "language": "python",
   "name": "python3"
  },
  "language_info": {
   "codemirror_mode": {
    "name": "ipython",
    "version": 3
   },
   "file_extension": ".py",
   "mimetype": "text/x-python",
   "name": "python",
   "nbconvert_exporter": "python",
   "pygments_lexer": "ipython3",
   "version": "3.11.1"
  }
 },
 "nbformat": 4,
 "nbformat_minor": 2
}
